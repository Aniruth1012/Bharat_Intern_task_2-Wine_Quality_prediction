{
  "nbformat": 4,
  "nbformat_minor": 0,
  "metadata": {
    "colab": {
      "provenance": []
    },
    "kernelspec": {
      "name": "python3",
      "display_name": "Python 3"
    },
    "language_info": {
      "name": "python"
    }
  },
  "cells": [
    {
      "cell_type": "markdown",
      "source": [
        "Importing the Libraries"
      ],
      "metadata": {
        "id": "7Gm625MZ-VoE"
      }
    },
    {
      "cell_type": "code",
      "execution_count": 1,
      "metadata": {
        "id": "gYX5XYRt-VFu"
      },
      "outputs": [],
      "source": [
        "import numpy as np\n",
        "import pandas as pd\n",
        "import matplotlib.pyplot as plt"
      ]
    },
    {
      "cell_type": "markdown",
      "source": [
        "Importing the dataset"
      ],
      "metadata": {
        "id": "9YJISaVA-cWQ"
      }
    },
    {
      "cell_type": "code",
      "source": [
        "dataset=pd.read_csv('WineQuality.csv')"
      ],
      "metadata": {
        "id": "-zZq3AmKha4-"
      },
      "execution_count": null,
      "outputs": []
    },
    {
      "cell_type": "markdown",
      "source": [
        "Deriving Variables based on mi scores and dataset content"
      ],
      "metadata": {
        "id": "Wczs759dhdeB"
      }
    },
    {
      "cell_type": "code",
      "source": [
        "dataset['fvratio']=dataset['fixed acidity']/dataset['volatile acidity']\n",
        "shift=dataset.pop('fvratio')\n",
        "dataset.insert(2, 'fvratio', shift)\n",
        "dataset['ftratio']=dataset['free sulfur dioxide']/dataset['total sulfur dioxide']\n",
        "shift1=dataset.pop('ftratio')\n",
        "dataset.insert(2, 'ftratio', shift1)\n",
        "dataset['csratio']=dataset['chlorides']/dataset['sulphates']\n",
        "shift2=dataset.pop('csratio')\n",
        "dataset.insert(2, 'csratio', shift2)\n",
        "shift3=dataset.pop('Type')\n",
        "dataset.insert(3,'Type',shift3)"
      ],
      "metadata": {
        "id": "6z5xWVl7-d0S"
      },
      "execution_count": 2,
      "outputs": []
    },
    {
      "cell_type": "markdown",
      "source": [
        "Seperating the Dependent and Independent Variables"
      ],
      "metadata": {
        "id": "1hLFuZ6JhoU4"
      }
    },
    {
      "cell_type": "code",
      "source": [
        "X=dataset.iloc[:,1:-1].values\n",
        "Y=dataset.iloc[:,-1].values"
      ],
      "metadata": {
        "id": "VwJ7rpv0hn1_"
      },
      "execution_count": null,
      "outputs": []
    },
    {
      "cell_type": "markdown",
      "source": [
        "Cross Checking the dataset by printing header"
      ],
      "metadata": {
        "id": "H3x-q0kxh3Q0"
      }
    },
    {
      "cell_type": "code",
      "source": [
        "print(dataset.head())"
      ],
      "metadata": {
        "id": "xSsK7tHSn-v2"
      },
      "execution_count": null,
      "outputs": []
    },
    {
      "cell_type": "markdown",
      "source": [
        "Check for Missing values"
      ],
      "metadata": {
        "id": "fJKw4d6Y_BkN"
      }
    },
    {
      "cell_type": "code",
      "source": [
        "if dataset.isnull().any().any():\n",
        "  print('true')"
      ],
      "metadata": {
        "id": "1cC6ScH9_F4t"
      },
      "execution_count": 5,
      "outputs": []
    },
    {
      "cell_type": "markdown",
      "source": [
        "Handling Missing values"
      ],
      "metadata": {
        "id": "AGnwbdhDcQw8"
      }
    },
    {
      "cell_type": "code",
      "source": [
        "rows_with_nan = dataset[dataset.isnull().any(axis=1)]\n",
        "print(rows_with_nan)\n"
      ],
      "metadata": {
        "colab": {
          "base_uri": "https://localhost:8080/"
        },
        "id": "GCkz21A9bfPV",
        "outputId": "1e05b120-dfca-44e0-803d-0ef5a2233b53"
      },
      "execution_count": 6,
      "outputs": [
        {
          "output_type": "stream",
          "name": "stdout",
          "text": [
            "Empty DataFrame\n",
            "Columns: [Unnamed: 0, fixed acidity, csratio, Type, ftratio, fvratio, volatile acidity, citric acid, residual sugar, chlorides, free sulfur dioxide, total sulfur dioxide, density, pH, sulphates, alcohol, quality]\n",
            "Index: []\n"
          ]
        }
      ]
    },
    {
      "cell_type": "code",
      "source": [
        "#Since rows with Nan values are comparitively less we shall proceed by removing those\n",
        "dataset = dataset.dropna()"
      ],
      "metadata": {
        "id": "qVKAxqpUb-uJ"
      },
      "execution_count": 7,
      "outputs": []
    },
    {
      "cell_type": "code",
      "source": [
        "if dataset.isnull().any().any():\n",
        "  print('true')"
      ],
      "metadata": {
        "id": "bkekXEpccKSe"
      },
      "execution_count": 8,
      "outputs": []
    },
    {
      "cell_type": "markdown",
      "source": [
        "Encoding the Cateogrical Variables"
      ],
      "metadata": {
        "id": "dI4hodHM_gK-"
      }
    },
    {
      "cell_type": "code",
      "source": [
        "from sklearn.preprocessing import LabelEncoder\n",
        "le=LabelEncoder()\n",
        "X[:,2]=le.fit_transform(X[:,2])"
      ],
      "metadata": {
        "id": "oUW48vrgdSkA"
      },
      "execution_count": 9,
      "outputs": []
    },
    {
      "cell_type": "markdown",
      "source": [
        "Feature Engineering to find mi score of variables"
      ],
      "metadata": {
        "id": "3oKBHZ5xhC26"
      }
    },
    {
      "cell_type": "code",
      "source": [
        "from sklearn.feature_selection import mutual_info_regression\n",
        "mi_scores = mutual_info_regression(X,Y)\n",
        "feature_names=['fixed acidity','volatile acidity','citric acid','residual sugar','chlorides','free sulfur dioxide','total sulfur dioxide','density','pH','sulphates','alcohol']\n",
        "feature_mi_scores = list(zip(feature_names, mi_scores))\n",
        "feature_mi_scores.sort(key=lambda x: x[1], reverse=True)"
      ],
      "metadata": {
        "id": "4kRkp_zfilg-"
      },
      "execution_count": 10,
      "outputs": []
    },
    {
      "cell_type": "code",
      "source": [
        "print(feature_mi_scores)"
      ],
      "metadata": {
        "id": "-EA81JuXjGm1",
        "colab": {
          "base_uri": "https://localhost:8080/"
        },
        "outputId": "89d376c0-2e8a-4410-c504-1526d5cce342"
      },
      "execution_count": 11,
      "outputs": [
        {
          "output_type": "stream",
          "name": "stdout",
          "text": [
            "[('residual sugar', 0.7099142254240514), ('volatile acidity', 0.6129322545833249), ('chlorides', 0.5692674129951456), ('alcohol', 0.15419570629930046), ('density', 0.1523761157913519), ('pH', 0.12521650488210856), ('free sulfur dioxide', 0.10298356730827596), ('sulphates', 0.07844744445197982), ('total sulfur dioxide', 0.07274734558005758), ('fixed acidity', 0.05812778798633822), ('citric acid', 0.014222772872591882)]\n"
          ]
        }
      ]
    },
    {
      "cell_type": "markdown",
      "source": [
        "NOTE : Variables derived at the start were using the mi scores"
      ],
      "metadata": {
        "id": "NUv230MuhLXK"
      }
    },
    {
      "cell_type": "markdown",
      "source": [
        "Splitting into training and test set"
      ],
      "metadata": {
        "id": "tzarfryX_mLP"
      }
    },
    {
      "cell_type": "code",
      "source": [
        "from sklearn.model_selection import train_test_split\n",
        "X_train,X_test,Y_train,Y_test=train_test_split(X,Y,test_size=0.3,random_state=0)"
      ],
      "metadata": {
        "id": "hlfgwLCc_piX"
      },
      "execution_count": 12,
      "outputs": []
    },
    {
      "cell_type": "markdown",
      "source": [
        "Feature Scaling"
      ],
      "metadata": {
        "id": "jabOWVpV_0ra"
      }
    },
    {
      "cell_type": "code",
      "source": [
        "from sklearn.preprocessing import StandardScaler\n",
        "sc_x=StandardScaler()\n",
        "sc_y=StandardScaler()\n",
        "X_train=sc_x.fit_transform(X_train)\n",
        "Y_train=sc_y.fit_transform(Y_train.reshape(-1,1))"
      ],
      "metadata": {
        "id": "2z20OAeE_2Zb"
      },
      "execution_count": 13,
      "outputs": []
    },
    {
      "cell_type": "markdown",
      "source": [
        "Training the Random Forest Model on training set"
      ],
      "metadata": {
        "id": "j7Be2uYLAZxn"
      }
    },
    {
      "cell_type": "code",
      "source": [
        "from sklearn.ensemble import RandomForestRegressor\n",
        "regressor = RandomForestRegressor(n_estimators = 500, random_state = 0)\n",
        "regressor.fit(X_train,Y_train)"
      ],
      "metadata": {
        "colab": {
          "base_uri": "https://localhost:8080/",
          "height": 129
        },
        "id": "tBNcCJr8AhaT",
        "outputId": "517d3b65-4d73-4aae-e5ea-648bb5848fe7"
      },
      "execution_count": 14,
      "outputs": [
        {
          "output_type": "stream",
          "name": "stderr",
          "text": [
            "<ipython-input-14-4388757ce2e2>:3: DataConversionWarning: A column-vector y was passed when a 1d array was expected. Please change the shape of y to (n_samples,), for example using ravel().\n",
            "  regressor.fit(X_train,Y_train)\n"
          ]
        },
        {
          "output_type": "execute_result",
          "data": {
            "text/plain": [
              "RandomForestRegressor(n_estimators=500, random_state=0)"
            ],
            "text/html": [
              "<style>#sk-container-id-1 {color: black;background-color: white;}#sk-container-id-1 pre{padding: 0;}#sk-container-id-1 div.sk-toggleable {background-color: white;}#sk-container-id-1 label.sk-toggleable__label {cursor: pointer;display: block;width: 100%;margin-bottom: 0;padding: 0.3em;box-sizing: border-box;text-align: center;}#sk-container-id-1 label.sk-toggleable__label-arrow:before {content: \"▸\";float: left;margin-right: 0.25em;color: #696969;}#sk-container-id-1 label.sk-toggleable__label-arrow:hover:before {color: black;}#sk-container-id-1 div.sk-estimator:hover label.sk-toggleable__label-arrow:before {color: black;}#sk-container-id-1 div.sk-toggleable__content {max-height: 0;max-width: 0;overflow: hidden;text-align: left;background-color: #f0f8ff;}#sk-container-id-1 div.sk-toggleable__content pre {margin: 0.2em;color: black;border-radius: 0.25em;background-color: #f0f8ff;}#sk-container-id-1 input.sk-toggleable__control:checked~div.sk-toggleable__content {max-height: 200px;max-width: 100%;overflow: auto;}#sk-container-id-1 input.sk-toggleable__control:checked~label.sk-toggleable__label-arrow:before {content: \"▾\";}#sk-container-id-1 div.sk-estimator input.sk-toggleable__control:checked~label.sk-toggleable__label {background-color: #d4ebff;}#sk-container-id-1 div.sk-label input.sk-toggleable__control:checked~label.sk-toggleable__label {background-color: #d4ebff;}#sk-container-id-1 input.sk-hidden--visually {border: 0;clip: rect(1px 1px 1px 1px);clip: rect(1px, 1px, 1px, 1px);height: 1px;margin: -1px;overflow: hidden;padding: 0;position: absolute;width: 1px;}#sk-container-id-1 div.sk-estimator {font-family: monospace;background-color: #f0f8ff;border: 1px dotted black;border-radius: 0.25em;box-sizing: border-box;margin-bottom: 0.5em;}#sk-container-id-1 div.sk-estimator:hover {background-color: #d4ebff;}#sk-container-id-1 div.sk-parallel-item::after {content: \"\";width: 100%;border-bottom: 1px solid gray;flex-grow: 1;}#sk-container-id-1 div.sk-label:hover label.sk-toggleable__label {background-color: #d4ebff;}#sk-container-id-1 div.sk-serial::before {content: \"\";position: absolute;border-left: 1px solid gray;box-sizing: border-box;top: 0;bottom: 0;left: 50%;z-index: 0;}#sk-container-id-1 div.sk-serial {display: flex;flex-direction: column;align-items: center;background-color: white;padding-right: 0.2em;padding-left: 0.2em;position: relative;}#sk-container-id-1 div.sk-item {position: relative;z-index: 1;}#sk-container-id-1 div.sk-parallel {display: flex;align-items: stretch;justify-content: center;background-color: white;position: relative;}#sk-container-id-1 div.sk-item::before, #sk-container-id-1 div.sk-parallel-item::before {content: \"\";position: absolute;border-left: 1px solid gray;box-sizing: border-box;top: 0;bottom: 0;left: 50%;z-index: -1;}#sk-container-id-1 div.sk-parallel-item {display: flex;flex-direction: column;z-index: 1;position: relative;background-color: white;}#sk-container-id-1 div.sk-parallel-item:first-child::after {align-self: flex-end;width: 50%;}#sk-container-id-1 div.sk-parallel-item:last-child::after {align-self: flex-start;width: 50%;}#sk-container-id-1 div.sk-parallel-item:only-child::after {width: 0;}#sk-container-id-1 div.sk-dashed-wrapped {border: 1px dashed gray;margin: 0 0.4em 0.5em 0.4em;box-sizing: border-box;padding-bottom: 0.4em;background-color: white;}#sk-container-id-1 div.sk-label label {font-family: monospace;font-weight: bold;display: inline-block;line-height: 1.2em;}#sk-container-id-1 div.sk-label-container {text-align: center;}#sk-container-id-1 div.sk-container {/* jupyter's `normalize.less` sets `[hidden] { display: none; }` but bootstrap.min.css set `[hidden] { display: none !important; }` so we also need the `!important` here to be able to override the default hidden behavior on the sphinx rendered scikit-learn.org. See: https://github.com/scikit-learn/scikit-learn/issues/21755 */display: inline-block !important;position: relative;}#sk-container-id-1 div.sk-text-repr-fallback {display: none;}</style><div id=\"sk-container-id-1\" class=\"sk-top-container\"><div class=\"sk-text-repr-fallback\"><pre>RandomForestRegressor(n_estimators=500, random_state=0)</pre><b>In a Jupyter environment, please rerun this cell to show the HTML representation or trust the notebook. <br />On GitHub, the HTML representation is unable to render, please try loading this page with nbviewer.org.</b></div><div class=\"sk-container\" hidden><div class=\"sk-item\"><div class=\"sk-estimator sk-toggleable\"><input class=\"sk-toggleable__control sk-hidden--visually\" id=\"sk-estimator-id-1\" type=\"checkbox\" checked><label for=\"sk-estimator-id-1\" class=\"sk-toggleable__label sk-toggleable__label-arrow\">RandomForestRegressor</label><div class=\"sk-toggleable__content\"><pre>RandomForestRegressor(n_estimators=500, random_state=0)</pre></div></div></div></div></div>"
            ]
          },
          "metadata": {},
          "execution_count": 14
        }
      ]
    },
    {
      "cell_type": "markdown",
      "source": [
        "NOTE : Random Forest provides best results after trying with other regression models"
      ],
      "metadata": {
        "id": "FKUJEay1iFTy"
      }
    },
    {
      "cell_type": "markdown",
      "source": [
        "Predicting the Test set"
      ],
      "metadata": {
        "id": "4YX-1nfvA0QH"
      }
    },
    {
      "cell_type": "code",
      "source": [
        "Y_pred=sc_y.inverse_transform(regressor.predict(sc_x.transform(X_test)).reshape(-1,1))"
      ],
      "metadata": {
        "id": "5YkORFBKA3Ff"
      },
      "execution_count": 15,
      "outputs": []
    },
    {
      "cell_type": "code",
      "source": [
        "print(Y_pred.reshape(1,-1))"
      ],
      "metadata": {
        "colab": {
          "base_uri": "https://localhost:8080/"
        },
        "id": "1beA_3HxBBS7",
        "outputId": "654506ca-d81c-49c8-e1fc-8cd6113f8f06"
      },
      "execution_count": 16,
      "outputs": [
        {
          "output_type": "stream",
          "name": "stdout",
          "text": [
            "[[5.996 6.004 6.016 ... 6.    7.    5.004]]\n"
          ]
        }
      ]
    },
    {
      "cell_type": "code",
      "source": [
        "print(Y_test)"
      ],
      "metadata": {
        "colab": {
          "base_uri": "https://localhost:8080/"
        },
        "id": "f6ur2LOIBuo8",
        "outputId": "c81efc22-fb41-40cf-9957-f6eae8af3fe5"
      },
      "execution_count": 17,
      "outputs": [
        {
          "output_type": "stream",
          "name": "stdout",
          "text": [
            "[6 6 6 ... 6 7 5]\n"
          ]
        }
      ]
    },
    {
      "cell_type": "markdown",
      "source": [
        "Testing the score of the model"
      ],
      "metadata": {
        "id": "6Vdat5p4BbZg"
      }
    },
    {
      "cell_type": "code",
      "source": [
        "from sklearn.metrics import r2_score\n",
        "r2_score(Y_test,Y_pred.reshape(-1,1))"
      ],
      "metadata": {
        "colab": {
          "base_uri": "https://localhost:8080/"
        },
        "id": "h_4qmBtQBdLU",
        "outputId": "fed670b2-bcce-4d31-cc56-244da7c3a591"
      },
      "execution_count": 18,
      "outputs": [
        {
          "output_type": "execute_result",
          "data": {
            "text/plain": [
              "0.9789769871482509"
            ]
          },
          "metadata": {},
          "execution_count": 18
        }
      ]
    }
  ]
}